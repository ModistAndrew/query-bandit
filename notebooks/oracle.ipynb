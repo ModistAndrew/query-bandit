{
 "cells": [
  {
   "cell_type": "code",
   "execution_count": 116,
   "outputs": [],
   "source": [
    "import librosa.effects\n",
    "import numpy as np\n",
    "import pandas as pd\n",
    "import soundfile as sf\n",
    "\n",
    "import os\n",
    "\n",
    "from ipywidgets import Audio\n",
    "from matplotlib import pyplot as plt\n",
    "from tqdm.notebook import tqdm\n",
    "\n",
    "import librosa"
   ],
   "metadata": {
    "collapsed": false,
    "ExecuteTime": {
     "end_time": "2024-04-06T19:10:14.848026653Z",
     "start_time": "2024-04-06T19:10:14.806036839Z"
    }
   }
  },
  {
   "cell_type": "code",
   "execution_count": 117,
   "outputs": [],
   "source": [
    "from norbert import wiener"
   ],
   "metadata": {
    "collapsed": false,
    "ExecuteTime": {
     "end_time": "2024-04-06T19:10:14.849612664Z",
     "start_time": "2024-04-06T19:10:14.848272002Z"
    }
   }
  },
  {
   "cell_type": "code",
   "execution_count": 118,
   "outputs": [],
   "source": [
    "GROUND_TRUTH_ROOT = \"/home/kwatchar3/Documents/data/moisesdb\"\n",
    "\n",
    "splits = pd.read_csv(\"/home/kwatchar3/projects/query-bandit/reproducibility/splits.csv\")\n",
    "\n",
    "gt_files = splits[splits[\"split\"] == 5][\"song_id\"].values"
   ],
   "metadata": {
    "collapsed": false,
    "ExecuteTime": {
     "end_time": "2024-04-06T19:10:14.849736652Z",
     "start_time": "2024-04-06T19:10:14.848373666Z"
    }
   }
  },
  {
   "cell_type": "code",
   "execution_count": 119,
   "outputs": [],
   "source": [
    "stems = [\"lead_female_singer\",\n",
    "         \"lead_male_singer\",\n",
    "         \"drums\", \"bass_guitar\",\n",
    "         \"acoustic_guitar\", \"clean_electric_guitar\", \"distorted_electric_guitar\",\n",
    "         \"grand_piano\", \"electric_piano\"]"
   ],
   "metadata": {
    "collapsed": false,
    "ExecuteTime": {
     "end_time": "2024-04-06T19:10:14.849764849Z",
     "start_time": "2024-04-06T19:10:14.848414894Z"
    }
   }
  },
  {
   "cell_type": "code",
   "execution_count": 120,
   "outputs": [],
   "source": [
    "def snr(gt, est):\n",
    "    return 10 * np.log10(np.sum(np.square(gt)) / np.sum(np.square(gt - est)))"
   ],
   "metadata": {
    "collapsed": false,
    "ExecuteTime": {
     "end_time": "2024-04-06T19:10:14.849798178Z",
     "start_time": "2024-04-06T19:10:14.848446657Z"
    }
   }
  },
  {
   "cell_type": "code",
   "execution_count": 121,
   "outputs": [],
   "source": [
    "def compute_irm(song_id):\n",
    "    mixture = np.load(os.path.join(GROUND_TRUTH_ROOT, \"npy2\", song_id, \"mixture.npy\"))\n",
    "\n",
    "    X = librosa.stft(mixture, n_fft=2048, hop_length=512)\n",
    "\n",
    "    res = []\n",
    "\n",
    "    sources = {}\n",
    "\n",
    "    for stem in stems:\n",
    "        stem_name = stem\n",
    "        stem_path = os.path.join(GROUND_TRUTH_ROOT, \"npy2\", song_id, f\"{stem}.npy\")\n",
    "        if not os.path.exists(stem_path):\n",
    "            continue\n",
    "\n",
    "        stem = np.load(stem_path)\n",
    "        _, n_frames = stem.shape\n",
    "\n",
    "        S = librosa.stft(stem, n_fft=2048, hop_length=512, pad_mode=\"constant\")\n",
    "\n",
    "        noises = X - S\n",
    "\n",
    "        irm = (np.abs(S) + 1e-8) / (np.abs(S) + np.abs(noises) + 1e-8)\n",
    "        Y = irm * X\n",
    "\n",
    "        y = librosa.istft(Y, n_fft=2048, hop_length=512, length=n_frames)\n",
    "\n",
    "        snr_ = snr(stem, y)\n",
    "\n",
    "        res.append({\n",
    "            \"song_id\": song_id,\n",
    "            \"stem\": stem_name,\n",
    "            \"snr\": snr_,\n",
    "            \"method\": \"oracle_irm\"\n",
    "        })\n",
    "\n",
    "        ibm = np.abs(S) > np.abs(noises)\n",
    "\n",
    "        Y = ibm * X\n",
    "\n",
    "        y = librosa.istft(Y, n_fft=2048, hop_length=512, length=n_frames)\n",
    "\n",
    "        snr_ = snr(stem, y)\n",
    "\n",
    "        res.append({\n",
    "            \"song_id\": song_id,\n",
    "            \"stem\": stem_name,\n",
    "            \"snr\": snr_,\n",
    "            \"method\": \"oracle_ibm\"\n",
    "        })\n",
    "\n",
    "\n",
    "\n",
    "    return res"
   ],
   "metadata": {
    "collapsed": false,
    "ExecuteTime": {
     "end_time": "2024-04-06T19:10:14.849821487Z",
     "start_time": "2024-04-06T19:10:14.848474298Z"
    }
   }
  },
  {
   "cell_type": "code",
   "execution_count": 122,
   "outputs": [
    {
     "data": {
      "text/plain": "  0%|          | 0/48 [00:00<?, ?it/s]",
      "application/vnd.jupyter.widget-view+json": {
       "version_major": 2,
       "version_minor": 0,
       "model_id": "faec6e12f59c49468baa55313a89912b"
      }
     },
     "metadata": {},
     "output_type": "display_data"
    }
   ],
   "source": [
    "from tqdm.contrib.concurrent import process_map\n",
    "\n",
    "df = []\n",
    "\n",
    "for song_id in tqdm(gt_files):\n",
    "\n",
    "    res = compute_irm(song_id)\n",
    "    df.extend(res)\n",
    "\n",
    "df = pd.DataFrame(df)\n"
   ],
   "metadata": {
    "collapsed": false,
    "ExecuteTime": {
     "end_time": "2024-04-06T19:19:23.836836374Z",
     "start_time": "2024-04-06T19:10:14.848551705Z"
    }
   }
  },
  {
   "cell_type": "code",
   "execution_count": 123,
   "outputs": [],
   "source": [
    "df.to_csv(\"oracle_irm_ibm.csv\", index=False)"
   ],
   "metadata": {
    "collapsed": false,
    "ExecuteTime": {
     "end_time": "2024-04-06T19:19:23.840884876Z",
     "start_time": "2024-04-06T19:19:23.838344788Z"
    }
   }
  },
  {
   "cell_type": "code",
   "execution_count": 124,
   "outputs": [],
   "source": [
    "stem_dtype = pd.CategoricalDtype(categories=stems, ordered=True)"
   ],
   "metadata": {
    "collapsed": false,
    "ExecuteTime": {
     "end_time": "2024-04-06T19:19:23.881931634Z",
     "start_time": "2024-04-06T19:19:23.841417169Z"
    }
   }
  },
  {
   "cell_type": "code",
   "execution_count": 125,
   "outputs": [
    {
     "data": {
      "text/plain": "                                  song_id                   stem        snr  \\\n0    0358fd1e-244a-4422-9a42-29b5d68f6e4b       lead_male_singer   8.228316   \n1    0358fd1e-244a-4422-9a42-29b5d68f6e4b       lead_male_singer   8.718332   \n2    0358fd1e-244a-4422-9a42-29b5d68f6e4b                  drums   9.494342   \n3    0358fd1e-244a-4422-9a42-29b5d68f6e4b                  drums  10.163924   \n4    0358fd1e-244a-4422-9a42-29b5d68f6e4b        acoustic_guitar   6.922390   \n..                                    ...                    ...        ...   \n437  fc3c9e48-e2ac-4088-af65-68404baa7f12            bass_guitar   6.883285   \n438  fc3c9e48-e2ac-4088-af65-68404baa7f12  clean_electric_guitar   3.328224   \n439  fc3c9e48-e2ac-4088-af65-68404baa7f12  clean_electric_guitar   3.678336   \n440  fc3c9e48-e2ac-4088-af65-68404baa7f12            grand_piano   5.070795   \n441  fc3c9e48-e2ac-4088-af65-68404baa7f12            grand_piano   5.421054   \n\n         method  \n0    oracle_irm  \n1    oracle_ibm  \n2    oracle_irm  \n3    oracle_ibm  \n4    oracle_irm  \n..          ...  \n437  oracle_ibm  \n438  oracle_irm  \n439  oracle_ibm  \n440  oracle_irm  \n441  oracle_ibm  \n\n[442 rows x 4 columns]",
      "text/html": "<div>\n<style scoped>\n    .dataframe tbody tr th:only-of-type {\n        vertical-align: middle;\n    }\n\n    .dataframe tbody tr th {\n        vertical-align: top;\n    }\n\n    .dataframe thead th {\n        text-align: right;\n    }\n</style>\n<table border=\"1\" class=\"dataframe\">\n  <thead>\n    <tr style=\"text-align: right;\">\n      <th></th>\n      <th>song_id</th>\n      <th>stem</th>\n      <th>snr</th>\n      <th>method</th>\n    </tr>\n  </thead>\n  <tbody>\n    <tr>\n      <th>0</th>\n      <td>0358fd1e-244a-4422-9a42-29b5d68f6e4b</td>\n      <td>lead_male_singer</td>\n      <td>8.228316</td>\n      <td>oracle_irm</td>\n    </tr>\n    <tr>\n      <th>1</th>\n      <td>0358fd1e-244a-4422-9a42-29b5d68f6e4b</td>\n      <td>lead_male_singer</td>\n      <td>8.718332</td>\n      <td>oracle_ibm</td>\n    </tr>\n    <tr>\n      <th>2</th>\n      <td>0358fd1e-244a-4422-9a42-29b5d68f6e4b</td>\n      <td>drums</td>\n      <td>9.494342</td>\n      <td>oracle_irm</td>\n    </tr>\n    <tr>\n      <th>3</th>\n      <td>0358fd1e-244a-4422-9a42-29b5d68f6e4b</td>\n      <td>drums</td>\n      <td>10.163924</td>\n      <td>oracle_ibm</td>\n    </tr>\n    <tr>\n      <th>4</th>\n      <td>0358fd1e-244a-4422-9a42-29b5d68f6e4b</td>\n      <td>acoustic_guitar</td>\n      <td>6.922390</td>\n      <td>oracle_irm</td>\n    </tr>\n    <tr>\n      <th>...</th>\n      <td>...</td>\n      <td>...</td>\n      <td>...</td>\n      <td>...</td>\n    </tr>\n    <tr>\n      <th>437</th>\n      <td>fc3c9e48-e2ac-4088-af65-68404baa7f12</td>\n      <td>bass_guitar</td>\n      <td>6.883285</td>\n      <td>oracle_ibm</td>\n    </tr>\n    <tr>\n      <th>438</th>\n      <td>fc3c9e48-e2ac-4088-af65-68404baa7f12</td>\n      <td>clean_electric_guitar</td>\n      <td>3.328224</td>\n      <td>oracle_irm</td>\n    </tr>\n    <tr>\n      <th>439</th>\n      <td>fc3c9e48-e2ac-4088-af65-68404baa7f12</td>\n      <td>clean_electric_guitar</td>\n      <td>3.678336</td>\n      <td>oracle_ibm</td>\n    </tr>\n    <tr>\n      <th>440</th>\n      <td>fc3c9e48-e2ac-4088-af65-68404baa7f12</td>\n      <td>grand_piano</td>\n      <td>5.070795</td>\n      <td>oracle_irm</td>\n    </tr>\n    <tr>\n      <th>441</th>\n      <td>fc3c9e48-e2ac-4088-af65-68404baa7f12</td>\n      <td>grand_piano</td>\n      <td>5.421054</td>\n      <td>oracle_ibm</td>\n    </tr>\n  </tbody>\n</table>\n<p>442 rows × 4 columns</p>\n</div>"
     },
     "execution_count": 125,
     "metadata": {},
     "output_type": "execute_result"
    }
   ],
   "source": [
    "df"
   ],
   "metadata": {
    "collapsed": false,
    "ExecuteTime": {
     "end_time": "2024-04-06T19:19:23.882151687Z",
     "start_time": "2024-04-06T19:19:23.880207444Z"
    }
   }
  },
  {
   "cell_type": "code",
   "execution_count": 133,
   "outputs": [
    {
     "data": {
      "text/plain": "                         stem      method        25%        50%        75%\n15         lead_female_singer  oracle_irm   9.959732  11.296755  11.913341\n14         lead_female_singer  oracle_ibm  10.630318  12.033295  12.443081\n17           lead_male_singer  oracle_irm   7.992356   9.261748  10.070114\n16           lead_male_singer  oracle_ibm   8.597003   9.928100  10.773254\n9                       drums  oracle_irm   6.958705   8.499880   9.528434\n8                       drums  oracle_ibm   7.732758   9.383624  10.280637\n3                 bass_guitar  oracle_irm   6.049543   7.402663   9.265378\n2                 bass_guitar  oracle_ibm   6.648597   7.912290   9.910038\n1             acoustic_guitar  oracle_irm   3.035848   4.191159   5.747699\n0             acoustic_guitar  oracle_ibm   3.447459   4.300100   6.205191\n4       clean_electric_guitar  oracle_ibm   3.896429   5.823254   7.275913\n5       clean_electric_guitar  oracle_irm   3.480007   5.552814   6.925114\n6   distorted_electric_guitar  oracle_ibm   4.973454   6.127327   7.521223\n7   distorted_electric_guitar  oracle_irm   4.584637   5.843509   6.915269\n12                grand_piano  oracle_ibm   3.403751   4.347475   6.052148\n13                grand_piano  oracle_irm   3.091310   4.369795   5.786943\n10             electric_piano  oracle_ibm   4.095230   5.200898   5.520819\n11             electric_piano  oracle_irm   3.918085   4.877171   5.181009",
      "text/html": "<div>\n<style scoped>\n    .dataframe tbody tr th:only-of-type {\n        vertical-align: middle;\n    }\n\n    .dataframe tbody tr th {\n        vertical-align: top;\n    }\n\n    .dataframe thead th {\n        text-align: right;\n    }\n</style>\n<table border=\"1\" class=\"dataframe\">\n  <thead>\n    <tr style=\"text-align: right;\">\n      <th></th>\n      <th>stem</th>\n      <th>method</th>\n      <th>25%</th>\n      <th>50%</th>\n      <th>75%</th>\n    </tr>\n  </thead>\n  <tbody>\n    <tr>\n      <th>15</th>\n      <td>lead_female_singer</td>\n      <td>oracle_irm</td>\n      <td>9.959732</td>\n      <td>11.296755</td>\n      <td>11.913341</td>\n    </tr>\n    <tr>\n      <th>14</th>\n      <td>lead_female_singer</td>\n      <td>oracle_ibm</td>\n      <td>10.630318</td>\n      <td>12.033295</td>\n      <td>12.443081</td>\n    </tr>\n    <tr>\n      <th>17</th>\n      <td>lead_male_singer</td>\n      <td>oracle_irm</td>\n      <td>7.992356</td>\n      <td>9.261748</td>\n      <td>10.070114</td>\n    </tr>\n    <tr>\n      <th>16</th>\n      <td>lead_male_singer</td>\n      <td>oracle_ibm</td>\n      <td>8.597003</td>\n      <td>9.928100</td>\n      <td>10.773254</td>\n    </tr>\n    <tr>\n      <th>9</th>\n      <td>drums</td>\n      <td>oracle_irm</td>\n      <td>6.958705</td>\n      <td>8.499880</td>\n      <td>9.528434</td>\n    </tr>\n    <tr>\n      <th>8</th>\n      <td>drums</td>\n      <td>oracle_ibm</td>\n      <td>7.732758</td>\n      <td>9.383624</td>\n      <td>10.280637</td>\n    </tr>\n    <tr>\n      <th>3</th>\n      <td>bass_guitar</td>\n      <td>oracle_irm</td>\n      <td>6.049543</td>\n      <td>7.402663</td>\n      <td>9.265378</td>\n    </tr>\n    <tr>\n      <th>2</th>\n      <td>bass_guitar</td>\n      <td>oracle_ibm</td>\n      <td>6.648597</td>\n      <td>7.912290</td>\n      <td>9.910038</td>\n    </tr>\n    <tr>\n      <th>1</th>\n      <td>acoustic_guitar</td>\n      <td>oracle_irm</td>\n      <td>3.035848</td>\n      <td>4.191159</td>\n      <td>5.747699</td>\n    </tr>\n    <tr>\n      <th>0</th>\n      <td>acoustic_guitar</td>\n      <td>oracle_ibm</td>\n      <td>3.447459</td>\n      <td>4.300100</td>\n      <td>6.205191</td>\n    </tr>\n    <tr>\n      <th>4</th>\n      <td>clean_electric_guitar</td>\n      <td>oracle_ibm</td>\n      <td>3.896429</td>\n      <td>5.823254</td>\n      <td>7.275913</td>\n    </tr>\n    <tr>\n      <th>5</th>\n      <td>clean_electric_guitar</td>\n      <td>oracle_irm</td>\n      <td>3.480007</td>\n      <td>5.552814</td>\n      <td>6.925114</td>\n    </tr>\n    <tr>\n      <th>6</th>\n      <td>distorted_electric_guitar</td>\n      <td>oracle_ibm</td>\n      <td>4.973454</td>\n      <td>6.127327</td>\n      <td>7.521223</td>\n    </tr>\n    <tr>\n      <th>7</th>\n      <td>distorted_electric_guitar</td>\n      <td>oracle_irm</td>\n      <td>4.584637</td>\n      <td>5.843509</td>\n      <td>6.915269</td>\n    </tr>\n    <tr>\n      <th>12</th>\n      <td>grand_piano</td>\n      <td>oracle_ibm</td>\n      <td>3.403751</td>\n      <td>4.347475</td>\n      <td>6.052148</td>\n    </tr>\n    <tr>\n      <th>13</th>\n      <td>grand_piano</td>\n      <td>oracle_irm</td>\n      <td>3.091310</td>\n      <td>4.369795</td>\n      <td>5.786943</td>\n    </tr>\n    <tr>\n      <th>10</th>\n      <td>electric_piano</td>\n      <td>oracle_ibm</td>\n      <td>4.095230</td>\n      <td>5.200898</td>\n      <td>5.520819</td>\n    </tr>\n    <tr>\n      <th>11</th>\n      <td>electric_piano</td>\n      <td>oracle_irm</td>\n      <td>3.918085</td>\n      <td>4.877171</td>\n      <td>5.181009</td>\n    </tr>\n  </tbody>\n</table>\n</div>"
     },
     "execution_count": 133,
     "metadata": {},
     "output_type": "execute_result"
    }
   ],
   "source": [
    "df = pd.read_csv(\"oracle_irm_ibm.csv\")\n",
    "df = df.groupby([\"stem\", \"method\"])[\"snr\"].describe()[[\"25%\", \"50%\", \"75%\"]].reset_index()\n",
    "#\n",
    "df[\"stem\"] = df[\"stem\"].astype(stem_dtype)\n",
    "#\n",
    "df = df.sort_values(\"stem\")\n",
    "#\n",
    "# df\n",
    "\n",
    "df"
   ],
   "metadata": {
    "collapsed": false,
    "ExecuteTime": {
     "end_time": "2024-04-06T19:20:45.490756997Z",
     "start_time": "2024-04-06T19:20:45.468765841Z"
    }
   }
  },
  {
   "cell_type": "code",
   "execution_count": 134,
   "outputs": [
    {
     "data": {
      "text/plain": "stem       lead_female_singer                       lead_male_singer  \\\npercentile                25%        50%        75%              25%   \nmethod                                                                 \noracle_ibm          10.630318  12.033295  12.443081         8.597003   \noracle_irm           9.959732  11.296755  11.913341         7.992356   \n\nstem                                drums                      bass_guitar  \\\npercentile       50%        75%       25%       50%        75%         25%   \nmethod                                                                       \noracle_ibm  9.928100  10.773254  7.732758  9.383624  10.280637    6.648597   \noracle_irm  9.261748  10.070114  6.958705  8.499880   9.528434    6.049543   \n\nstem        ... clean_electric_guitar distorted_electric_guitar            \\\npercentile  ...                   75%                       25%       50%   \nmethod      ...                                                             \noracle_ibm  ...              7.275913                  4.973454  6.127327   \noracle_irm  ...              6.925114                  4.584637  5.843509   \n\nstem                 grand_piano                     electric_piano            \\\npercentile       75%         25%       50%       75%            25%       50%   \nmethod                                                                          \noracle_ibm  7.521223    3.403751  4.347475  6.052148       4.095230  5.200898   \noracle_irm  6.915269    3.091310  4.369795  5.786943       3.918085  4.877171   \n\nstem                  \npercentile       75%  \nmethod                \noracle_ibm  5.520819  \noracle_irm  5.181009  \n\n[2 rows x 27 columns]",
      "text/html": "<div>\n<style scoped>\n    .dataframe tbody tr th:only-of-type {\n        vertical-align: middle;\n    }\n\n    .dataframe tbody tr th {\n        vertical-align: top;\n    }\n\n    .dataframe thead tr th {\n        text-align: left;\n    }\n\n    .dataframe thead tr:last-of-type th {\n        text-align: right;\n    }\n</style>\n<table border=\"1\" class=\"dataframe\">\n  <thead>\n    <tr>\n      <th>stem</th>\n      <th colspan=\"3\" halign=\"left\">lead_female_singer</th>\n      <th colspan=\"3\" halign=\"left\">lead_male_singer</th>\n      <th colspan=\"3\" halign=\"left\">drums</th>\n      <th>bass_guitar</th>\n      <th>...</th>\n      <th>clean_electric_guitar</th>\n      <th colspan=\"3\" halign=\"left\">distorted_electric_guitar</th>\n      <th colspan=\"3\" halign=\"left\">grand_piano</th>\n      <th colspan=\"3\" halign=\"left\">electric_piano</th>\n    </tr>\n    <tr>\n      <th>percentile</th>\n      <th>25%</th>\n      <th>50%</th>\n      <th>75%</th>\n      <th>25%</th>\n      <th>50%</th>\n      <th>75%</th>\n      <th>25%</th>\n      <th>50%</th>\n      <th>75%</th>\n      <th>25%</th>\n      <th>...</th>\n      <th>75%</th>\n      <th>25%</th>\n      <th>50%</th>\n      <th>75%</th>\n      <th>25%</th>\n      <th>50%</th>\n      <th>75%</th>\n      <th>25%</th>\n      <th>50%</th>\n      <th>75%</th>\n    </tr>\n    <tr>\n      <th>method</th>\n      <th></th>\n      <th></th>\n      <th></th>\n      <th></th>\n      <th></th>\n      <th></th>\n      <th></th>\n      <th></th>\n      <th></th>\n      <th></th>\n      <th></th>\n      <th></th>\n      <th></th>\n      <th></th>\n      <th></th>\n      <th></th>\n      <th></th>\n      <th></th>\n      <th></th>\n      <th></th>\n      <th></th>\n    </tr>\n  </thead>\n  <tbody>\n    <tr>\n      <th>oracle_ibm</th>\n      <td>10.630318</td>\n      <td>12.033295</td>\n      <td>12.443081</td>\n      <td>8.597003</td>\n      <td>9.928100</td>\n      <td>10.773254</td>\n      <td>7.732758</td>\n      <td>9.383624</td>\n      <td>10.280637</td>\n      <td>6.648597</td>\n      <td>...</td>\n      <td>7.275913</td>\n      <td>4.973454</td>\n      <td>6.127327</td>\n      <td>7.521223</td>\n      <td>3.403751</td>\n      <td>4.347475</td>\n      <td>6.052148</td>\n      <td>4.095230</td>\n      <td>5.200898</td>\n      <td>5.520819</td>\n    </tr>\n    <tr>\n      <th>oracle_irm</th>\n      <td>9.959732</td>\n      <td>11.296755</td>\n      <td>11.913341</td>\n      <td>7.992356</td>\n      <td>9.261748</td>\n      <td>10.070114</td>\n      <td>6.958705</td>\n      <td>8.499880</td>\n      <td>9.528434</td>\n      <td>6.049543</td>\n      <td>...</td>\n      <td>6.925114</td>\n      <td>4.584637</td>\n      <td>5.843509</td>\n      <td>6.915269</td>\n      <td>3.091310</td>\n      <td>4.369795</td>\n      <td>5.786943</td>\n      <td>3.918085</td>\n      <td>4.877171</td>\n      <td>5.181009</td>\n    </tr>\n  </tbody>\n</table>\n<p>2 rows × 27 columns</p>\n</div>"
     },
     "execution_count": 134,
     "metadata": {},
     "output_type": "execute_result"
    }
   ],
   "source": [
    "\n",
    "df = df.melt(id_vars=[\"method\", \"stem\"], var_name=\"percentile\", value_name=\"snr\")\n",
    "\n",
    "df = df.pivot_table(\n",
    "    index=\"method\",\n",
    "    columns=[\"stem\", \"percentile\"],\n",
    "    values=\"snr\",).sort_index(axis=1)\n",
    "\n",
    "df"
   ],
   "metadata": {
    "collapsed": false,
    "ExecuteTime": {
     "end_time": "2024-04-06T19:20:46.749493877Z",
     "start_time": "2024-04-06T19:20:46.738846046Z"
    }
   }
  },
  {
   "cell_type": "code",
   "execution_count": 135,
   "outputs": [
    {
     "name": "stdout",
     "output_type": "stream",
     "text": [
      "\\begin{tabular}{lrrrrrrrrrrrrrrrrrrrrrrrrrrr}\n",
      "\\toprule\n",
      "stem & \\multicolumn{3}{r}{lead_female_singer} & \\multicolumn{3}{r}{lead_male_singer} & \\multicolumn{3}{r}{drums} & \\multicolumn{3}{r}{bass_guitar} & \\multicolumn{3}{r}{acoustic_guitar} & \\multicolumn{3}{r}{clean_electric_guitar} & \\multicolumn{3}{r}{distorted_electric_guitar} & \\multicolumn{3}{r}{grand_piano} & \\multicolumn{3}{r}{electric_piano} \\\\\n",
      "percentile & 25% & 50% & 75% & 25% & 50% & 75% & 25% & 50% & 75% & 25% & 50% & 75% & 25% & 50% & 75% & 25% & 50% & 75% & 25% & 50% & 75% & 25% & 50% & 75% & 25% & 50% & 75% \\\\\n",
      "method &  &  &  &  &  &  &  &  &  &  &  &  &  &  &  &  &  &  &  &  &  &  &  &  &  &  &  \\\\\n",
      "\\midrule\n",
      "oracle_ibm & 10.6 & 12.0 & 12.4 & 8.6 & 9.9 & 10.8 & 7.7 & 9.4 & 10.3 & 6.6 & 7.9 & 9.9 & 3.4 & 4.3 & 6.2 & 3.9 & 5.8 & 7.3 & 5.0 & 6.1 & 7.5 & 3.4 & 4.3 & 6.1 & 4.1 & 5.2 & 5.5 \\\\\n",
      "oracle_irm & 10.0 & 11.3 & 11.9 & 8.0 & 9.3 & 10.1 & 7.0 & 8.5 & 9.5 & 6.0 & 7.4 & 9.3 & 3.0 & 4.2 & 5.7 & 3.5 & 5.6 & 6.9 & 4.6 & 5.8 & 6.9 & 3.1 & 4.4 & 5.8 & 3.9 & 4.9 & 5.2 \\\\\n",
      "\\bottomrule\n",
      "\\end{tabular}\n",
      "\n"
     ]
    }
   ],
   "source": [
    "print(df.to_latex(float_format=\"%.1f\"))"
   ],
   "metadata": {
    "collapsed": false,
    "ExecuteTime": {
     "end_time": "2024-04-06T19:20:51.564224470Z",
     "start_time": "2024-04-06T19:20:51.561962695Z"
    }
   }
  }
 ],
 "metadata": {
  "kernelspec": {
   "display_name": "Python 3",
   "language": "python",
   "name": "python3"
  },
  "language_info": {
   "codemirror_mode": {
    "name": "ipython",
    "version": 2
   },
   "file_extension": ".py",
   "mimetype": "text/x-python",
   "name": "python",
   "nbconvert_exporter": "python",
   "pygments_lexer": "ipython2",
   "version": "2.7.6"
  }
 },
 "nbformat": 4,
 "nbformat_minor": 0
}
